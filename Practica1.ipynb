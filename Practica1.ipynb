{
  "nbformat": 4,
  "nbformat_minor": 0,
  "metadata": {
    "colab": {
      "name": "Te damos la bienvenida a Colaboratory",
      "provenance": [],
      "collapsed_sections": [],
      "toc_visible": true,
      "include_colab_link": true
    },
    "kernelspec": {
      "display_name": "Python 3",
      "name": "python3"
    }
  },
  "cells": [
    {
      "cell_type": "markdown",
      "metadata": {
        "id": "view-in-github",
        "colab_type": "text"
      },
      "source": [
        "<a href=\"https://colab.research.google.com/github/est201459/EstadisticaIIUMG/blob/main/Practica1.ipynb\" target=\"_parent\"><img src=\"https://colab.research.google.com/assets/colab-badge.svg\" alt=\"Open In Colab\"/></a>"
      ]
    },
    {
      "cell_type": "markdown",
      "metadata": {
        "id": "5fCEDCU_qrC0"
      },
      "source": [
        "<p><img alt=\"Colaboratory logo\" height=\"45px\" src=\"/img/colab_favicon.ico\" align=\"left\" hspace=\"10px\" vspace=\"0px\"></p>\n",
        "\n",
        "<h1>¿Qué es Colaboratory?</h1>\n",
        "\n",
        "Colaboratory, también llamado Colab, te permite escribir y ejecutar código de Python en un navegador, con las siguientes particularidades:\n",
        "- Sin configuración requerida\n",
        "- Acceso gratuito a GPU\n",
        "- Facilidad para compartir\n",
        "\n",
        "Seas <strong>estudiante</strong>, <strong>científico de datos</strong> o <strong>investigador de IA</strong>, Colab facilita tu trabajo. Mira <a href=\"https://www.youtube.com/watch?v=inN8seMm7UI\">este video introductorio sobre Colab</a> para obtener más información, o bien comienza a usarlo más abajo."
      ]
    },
    {
      "cell_type": "markdown",
      "metadata": {
        "id": "GJBs_flRovLc"
      },
      "source": [
        "## <strong>Introducción</strong>\n",
        "\n",
        "El documento que estás leyendo no es una página web estática, sino un entorno interactivo denominado <strong>notebook de Colab</strong>, que permite escribir y ejecutar código.\n",
        "\n",
        "Por ejemplo, esta es una <strong>celda de código</strong> con una secuencia de comandos Python corta que calcula un valor, lo almacena en una variable y devuelve el resultado:"
      ]
    },
    {
      "cell_type": "code",
      "metadata": {
        "colab": {
          "base_uri": "https://localhost:8080/"
        },
        "id": "gJr_9dXGpJ05",
        "outputId": "a974bbbc-f5e4-4dd4-df18-4f0d3b77cc52"
      },
      "source": [
        "seconds_in_a_day = 24 * 60 * 60\n",
        "seconds_in_a_day"
      ],
      "execution_count": 1,
      "outputs": [
        {
          "output_type": "execute_result",
          "data": {
            "text/plain": [
              "86400"
            ]
          },
          "metadata": {
            "tags": []
          },
          "execution_count": 1
        }
      ]
    },
    {
      "cell_type": "markdown",
      "metadata": {
        "id": "2fhs6GZ4qFMx"
      },
      "source": [
        "A fin de ejecutar el código en la celda anterior, haz clic en él para seleccionarlo y luego presiona el botón de reproducción ubicado a la izquierda del código o usa la combinación de teclas \"Command/Ctrl + Intro\". Para editar el código, solo haz clic en la celda y comienza a editar.\n",
        "\n",
        "Las variables que defines en una celda pueden usarse en otras:"
      ]
    },
    {
      "cell_type": "code",
      "metadata": {
        "colab": {
          "base_uri": "https://localhost:8080/"
        },
        "id": "-gE-Ez1qtyIA",
        "outputId": "40adedcc-5c9a-4917-a51c-34aeb5d40b67"
      },
      "source": [
        "seconds_in_a_week = 7 * seconds_in_a_day\n",
        "seconds_in_a_week"
      ],
      "execution_count": 2,
      "outputs": [
        {
          "output_type": "execute_result",
          "data": {
            "text/plain": [
              "604800"
            ]
          },
          "metadata": {
            "tags": []
          },
          "execution_count": 2
        }
      ]
    },
    {
      "cell_type": "markdown",
      "metadata": {
        "id": "lSrWNr3MuFUS"
      },
      "source": [
        "Los notebooks de Colab te permiten combinar <strong>código ejecutable</strong> y <strong>texto enriquecido</strong> en un único documento, junto con <strong>imágenes</strong>, <strong>HTML</strong>, <strong>LaTeX</strong> y mucho más. Los notebooks que crees en Colab se almacenan en tu cuenta de Google Drive. Puedes compartir fácilmente los notebooks de Colab con amigos o compañeros de trabajo para que realicen comentarios o los editen. Si quieres obtener más información, consulta la <a href=\"/notebooks/basic_features_overview.ipynb\">Descripción general de Colab</a>. Para crear un nuevo notebook de Colab, ve al menú Archivo que aparece más arriba o usa este vínculo: <a href=\"http://colab.research.google.com#create=true\">crear un nuevo notebook de Colab</a>.\n",
        "\n",
        "Los notebooks de Colab son notebooks de Jupyter que aloja Colab. Para obtener más información sobre el proyecto Jupyter, visita <a href=\"https://www.jupyter.org\">jupyter.org</a>."
      ]
    },
    {
      "cell_type": "markdown",
      "metadata": {
        "id": "UdRyKR44dcNI"
      },
      "source": [
        "## Ciencia de datos\n",
        "\n",
        "Con Colab, puedes aprovechar por completo las bibliotecas más populares de Python para analizar y visualizar datos. La celda de código que se incluye a continuación usa <strong>NumPy</strong> para generar algunos datos aleatorios y <strong>matplotlib</strong> para visualizarlos. Para editar el código, haz clic en la celda y comienza a editar."
      ]
    },
    {
      "cell_type": "code",
      "metadata": {
        "colab": {
          "base_uri": "https://localhost:8080/",
          "height": 281
        },
        "id": "C4HZx7Gndbrh",
        "outputId": "2e92c458-02d4-4b55-913e-1dc987d4dd2b"
      },
      "source": [
        "import numpy as np\n",
        "from matplotlib import pyplot as plt\n",
        "\n",
        "ys = 200 + np.random.randn(100)\n",
        "x = [x for x in range(len(ys))]\n",
        "\n",
        "plt.plot(x, ys, '-')\n",
        "plt.fill_between(x, ys, 195, where=(ys > 195), facecolor='g', alpha=0.6)\n",
        "\n",
        "plt.title(\"Sample Visualization\")\n",
        "plt.show()"
      ],
      "execution_count": 3,
      "outputs": [
        {
          "output_type": "display_data",
          "data": {
            "image/png": "[encoded data removed]",
            "text/plain": [
              "<Figure size 432x288 with 1 Axes>"
            ]
          },
          "metadata": {
            "tags": [],
            "needs_background": "light"
          }
        }
      ]
    },
    {
      "cell_type": "markdown",
      "metadata": {
        "id": "4_kCnsPUqS6o"
      },
      "source": [
        "Puedes importar datos propios a notebooks de Colab desde tu cuenta de Google Drive &#40;incluso desde hojas de cálculos&#41;, GitHub y muchas otras fuentes. Para obtener más información acerca de la importación de datos y cómo puede usarse Colab para fines relacionados con la ciencia de datos, consulta los vínculos de <a href=\"#working-with-data\">Cómo trabajar con datos</a>."
      ]
    },
    {
      "cell_type": "markdown",
      "metadata": {
        "id": "OwuxHmxllTwN"
      },
      "source": [
        "## Aprendizaje automático\n",
        "\n",
        "Colab te permite importar un conjunto de datos de imágenes, entrenar un clasificador de imágenes en él y evaluar el modelo con solo <a href=\"https://colab.research.google.com/github/tensorflow/docs/blob/master/site/en/tutorials/quickstart/beginner.ipynb\">unas pocas líneas de código</a>. Los notebooks de Colab ejecutan código en los servidores alojados en la nube de Google, lo que significa que puedes aprovechar al máximo el hardware de Google, incluidas las <a href=\"#using-accelerated-hardware\">GPU y TPU</a>, independientemente de la potencia de tu máquina. Lo único que necesitas es un navegador."
      ]
    },
    {
      "cell_type": "markdown",
      "metadata": {
        "id": "ufxBm1yRnruN"
      },
      "source": [
        "Entre los usos que se la da a Colab en la comunidad de aprendizaje automático, se encuentran los siguientes:\n",
        "- Introducción a TensorFlow\n",
        "- Desarrollo y entrenamiento de redes neuronales\n",
        "- Experimentación con TPU\n",
        "- Diseminación de investigación de IA\n",
        "- Creación de instructivos\n",
        "\n",
        "Para ver notebooks de Colab de ejemplo que muestran los usos del aprendizaje automático, consulta los <a href=\"#machine-learning-examples\">ejemplos</a> que se incluyen a continuación."
      ]
    },
    {
      "cell_type": "markdown",
      "metadata": {
        "id": "-Rh3-Vt9Nev9"
      },
      "source": [
        "## Más recursos\n",
        "\n",
        "### Cómo trabajar con notebooks en Colab\n",
        "- [Descripción general de Colaboratory](/notebooks/basic_features_overview.ipynb)\n",
        "- [Guía para usar Markdown](/notebooks/markdown_guide.ipynb)\n",
        "- [Cómo importar bibliotecas y luego instalar dependencias](/notebooks/snippets/importing_libraries.ipynb)\n",
        "- [Cómo guardar y cargar notebooks en GitHub](https://colab.research.google.com/github/googlecolab/colabtools/blob/master/notebooks/colab-github-demo.ipynb)\n",
        "- [Formularios interactivos](/notebooks/forms.ipynb)\n",
        "- [Widgets interactivos](/notebooks/widgets.ipynb)\n",
        "- <img src=\"/img/new.png\" height=\"20px\" align=\"left\" hspace=\"4px\" alt=\"New\"></img>\n",
        " [TensorFlow 2 en Colab](/notebooks/tensorflow_version.ipynb)\n",
        "\n",
        "<a name=\"working-with-data\"></a>\n",
        "### Cómo trabajar con datos\n",
        "- [Cómo cargar datos: Drive, Hojas de cálculo y Google Cloud Storage](/notebooks/io.ipynb) \n",
        "- [Gráficos: visualización de datos](/notebooks/charts.ipynb)\n",
        "- [Cómo comenzar a usar BigQuery](/notebooks/bigquery.ipynb)\n",
        "\n",
        "### Curso intensivo de aprendizaje automático\n",
        "Estos son algunos de los notebooks del curso de aprendizaje automático en línea de Google. Para obtener más información, consulta el <a href=\"https://developers.google.com/machine-learning/crash-course/\">sitio web del curso completo</a>.\n",
        "- [Introducción a Pandas](/notebooks/mlcc/intro_to_pandas.ipynb)\n",
        "- [Conceptos de TensorFlow](/notebooks/mlcc/tensorflow_programming_concepts.ipynb)\n",
        "- [Primeros pasos con TensorFlow](/notebooks/mlcc/first_steps_with_tensor_flow.ipynb)\n",
        "- [Introducción a las redes neuronales](/notebooks/mlcc/intro_to_neural_nets.ipynb)\n",
        "- [Introducción a los datos dispersos y las incorporaciones](/notebooks/mlcc/intro_to_sparse_data_and_embeddings.ipynb)\n",
        "\n",
        "<a name=\"using-accelerated-hardware\"></a>\n",
        "### Uso de aceleración de hardware\n",
        "- [TensorFlow con GPU](/notebooks/gpu.ipynb)\n",
        "- [TensorFlow con TPU](/notebooks/tpu.ipynb)"
      ]
    },
    {
      "cell_type": "markdown",
      "metadata": {
        "id": "P-H6Lw1vyNNd"
      },
      "source": [
        "<a name=\"machine-learning-examples\"></a>\n",
        "\n",
        "## Ejemplos de aprendizaje automático\n",
        "\n",
        "Para ver ejemplos de extremo a extremo de los análisis de aprendizaje automático interactivo que Colaboratory permite realizar, consulta estos instructivos con modelos de <a href=\"https://tfhub.dev\">TensorFlow Hub</a>.\n",
        "\n",
        "Algunos ejemplos destacados son los siguientes:\n",
        "\n",
        "- <a href=\"https://tensorflow.org/hub/tutorials/tf2_image_retraining\">Reentrenamiento de un clasificador de imágenes</a>: compila un modelo de Keras sobre un clasificador de imágenes previamente entrenado para distinguir flores.\n",
        "- <a href=\"https://tensorflow.org/hub/tutorials/tf2_text_classification\">Clasificación de texto</a>: clasifica opiniones sobre películas de IMDB como <em>positivas</em> o <em>negativas</em>.\n",
        "- <a href=\"https://tensorflow.org/hub/tutorials/tf2_arbitrary_image_stylization\">Transferencia de estilos</a>: usa el aprendizaje profundo para transferir el estilo de una imagen a otra.\n",
        "- <a href=\"https://tensorflow.org/hub/tutorials/retrieval_with_tf_hub_universal_encoder_qa\">Codificador universal de oraciones en varios idiomas para preguntas y respuestas</a>: usa un modelo de aprendizaje automático para responder preguntas del conjunto de datos SQuAD.\n",
        "- <a href=\"https://tensorflow.org/hub/tutorials/tweening_conv3d\">Interpolación de videos</a>: predice lo que sucedió en un video entre el primer y el último fotograma.\n"
      ]
    }
  ]
}